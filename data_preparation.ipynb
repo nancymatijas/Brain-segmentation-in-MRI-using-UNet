{
  "cells": [
    {
      "cell_type": "markdown",
      "metadata": {
        "id": "view-in-github",
        "colab_type": "text"
      },
      "source": [
        "<a href=\"https://colab.research.google.com/github/nancymatijas/OSiRV-Projekt/blob/main/data_preparation.ipynb\" target=\"_parent\"><img src=\"https://colab.research.google.com/assets/colab-badge.svg\" alt=\"Open In Colab\"/></a>"
      ]
    },
    {
      "cell_type": "code",
      "execution_count": 1,
      "metadata": {
        "colab": {
          "base_uri": "https://localhost:8080/"
        },
        "id": "jUTykeL8CV3c",
        "outputId": "dad929ee-e3cc-4bc0-cafd-ecb8d6b0e7ac"
      },
      "outputs": [
        {
          "output_type": "stream",
          "name": "stdout",
          "text": [
            "Mounted at /content/drive/\n"
          ]
        }
      ],
      "source": [
        "from google.colab import drive\n",
        "drive.mount('/content/drive/')"
      ]
    },
    {
      "cell_type": "code",
      "execution_count": 2,
      "metadata": {
        "colab": {
          "base_uri": "https://localhost:8080/"
        },
        "id": "o02O-BVOEPR2",
        "outputId": "edc953bf-0745-4c24-9819-f998ab93a941"
      },
      "outputs": [
        {
          "output_type": "stream",
          "name": "stdout",
          "text": [
            "Collecting med2image\n",
            "  Downloading med2image-2.6.6.tar.gz (22 kB)\n",
            "  Preparing metadata (setup.py) ... \u001b[?25l\u001b[?25hdone\n",
            "Collecting pfmisc (from med2image)\n",
            "  Downloading pfmisc-2.2.14.tar.gz (41 kB)\n",
            "\u001b[2K     \u001b[90m━━━━━━━━━━━━━━━━━━━━━━━━━━━━━━━━━━━━━━━━\u001b[0m \u001b[32m41.5/41.5 kB\u001b[0m \u001b[31m2.5 MB/s\u001b[0m eta \u001b[36m0:00:00\u001b[0m\n",
            "\u001b[?25h  Preparing metadata (setup.py) ... \u001b[?25l\u001b[?25hdone\n",
            "Requirement already satisfied: nibabel in /usr/local/lib/python3.10/dist-packages (from med2image) (4.0.2)\n",
            "Collecting pydicom (from med2image)\n",
            "  Downloading pydicom-2.4.4-py3-none-any.whl (1.8 MB)\n",
            "\u001b[2K     \u001b[90m━━━━━━━━━━━━━━━━━━━━━━━━━━━━━━━━━━━━━━━━\u001b[0m \u001b[32m1.8/1.8 MB\u001b[0m \u001b[31m9.1 MB/s\u001b[0m eta \u001b[36m0:00:00\u001b[0m\n",
            "\u001b[?25hRequirement already satisfied: numpy in /usr/local/lib/python3.10/dist-packages (from med2image) (1.25.2)\n",
            "Requirement already satisfied: matplotlib in /usr/local/lib/python3.10/dist-packages (from med2image) (3.7.1)\n",
            "Requirement already satisfied: pillow in /usr/local/lib/python3.10/dist-packages (from med2image) (9.4.0)\n",
            "Requirement already satisfied: contourpy>=1.0.1 in /usr/local/lib/python3.10/dist-packages (from matplotlib->med2image) (1.2.0)\n",
            "Requirement already satisfied: cycler>=0.10 in /usr/local/lib/python3.10/dist-packages (from matplotlib->med2image) (0.12.1)\n",
            "Requirement already satisfied: fonttools>=4.22.0 in /usr/local/lib/python3.10/dist-packages (from matplotlib->med2image) (4.49.0)\n",
            "Requirement already satisfied: kiwisolver>=1.0.1 in /usr/local/lib/python3.10/dist-packages (from matplotlib->med2image) (1.4.5)\n",
            "Requirement already satisfied: packaging>=20.0 in /usr/local/lib/python3.10/dist-packages (from matplotlib->med2image) (23.2)\n",
            "Requirement already satisfied: pyparsing>=2.3.1 in /usr/local/lib/python3.10/dist-packages (from matplotlib->med2image) (3.1.1)\n",
            "Requirement already satisfied: python-dateutil>=2.7 in /usr/local/lib/python3.10/dist-packages (from matplotlib->med2image) (2.8.2)\n",
            "Requirement already satisfied: setuptools in /usr/local/lib/python3.10/dist-packages (from nibabel->med2image) (67.7.2)\n",
            "Collecting pudb (from pfmisc->med2image)\n",
            "  Downloading pudb-2024.1.tar.gz (226 kB)\n",
            "\u001b[2K     \u001b[90m━━━━━━━━━━━━━━━━━━━━━━━━━━━━━━━━━━━━━━━━\u001b[0m \u001b[32m226.0/226.0 kB\u001b[0m \u001b[31m18.8 MB/s\u001b[0m eta \u001b[36m0:00:00\u001b[0m\n",
            "\u001b[?25h  Installing build dependencies ... \u001b[?25l\u001b[?25hdone\n",
            "  Getting requirements to build wheel ... \u001b[?25l\u001b[?25hdone\n",
            "  Preparing metadata (pyproject.toml) ... \u001b[?25l\u001b[?25hdone\n",
            "Requirement already satisfied: six>=1.5 in /usr/local/lib/python3.10/dist-packages (from python-dateutil>=2.7->matplotlib->med2image) (1.16.0)\n",
            "Collecting urwid>=2.4 (from pudb->pfmisc->med2image)\n",
            "  Downloading urwid-2.6.4-py3-none-any.whl (292 kB)\n",
            "\u001b[2K     \u001b[90m━━━━━━━━━━━━━━━━━━━━━━━━━━━━━━━━━━━━━━━━\u001b[0m \u001b[32m292.2/292.2 kB\u001b[0m \u001b[31m15.9 MB/s\u001b[0m eta \u001b[36m0:00:00\u001b[0m\n",
            "\u001b[?25hRequirement already satisfied: pygments>=2.7.4 in /usr/local/lib/python3.10/dist-packages (from pudb->pfmisc->med2image) (2.16.1)\n",
            "Collecting jedi<1,>=0.18 (from pudb->pfmisc->med2image)\n",
            "  Downloading jedi-0.19.1-py2.py3-none-any.whl (1.6 MB)\n",
            "\u001b[2K     \u001b[90m━━━━━━━━━━━━━━━━━━━━━━━━━━━━━━━━━━━━━━━━\u001b[0m \u001b[32m1.6/1.6 MB\u001b[0m \u001b[31m15.7 MB/s\u001b[0m eta \u001b[36m0:00:00\u001b[0m\n",
            "\u001b[?25hCollecting urwid-readline (from pudb->pfmisc->med2image)\n",
            "  Downloading urwid_readline-0.13.tar.gz (7.9 kB)\n",
            "  Installing build dependencies ... \u001b[?25l\u001b[?25hdone\n",
            "  Getting requirements to build wheel ... \u001b[?25l\u001b[?25hdone\n",
            "  Preparing metadata (pyproject.toml) ... \u001b[?25l\u001b[?25hdone\n",
            "Requirement already satisfied: parso<0.9.0,>=0.8.3 in /usr/local/lib/python3.10/dist-packages (from jedi<1,>=0.18->pudb->pfmisc->med2image) (0.8.3)\n",
            "Requirement already satisfied: typing-extensions in /usr/local/lib/python3.10/dist-packages (from urwid>=2.4->pudb->pfmisc->med2image) (4.9.0)\n",
            "Requirement already satisfied: wcwidth in /usr/local/lib/python3.10/dist-packages (from urwid>=2.4->pudb->pfmisc->med2image) (0.2.13)\n",
            "Building wheels for collected packages: med2image, pfmisc, pudb, urwid-readline\n",
            "  Building wheel for med2image (setup.py) ... \u001b[?25l\u001b[?25hdone\n",
            "  Created wheel for med2image: filename=med2image-2.6.6-py3-none-any.whl size=18863 sha256=ea52237f29c7675c6833095cf37866e14b90a5c477127ee2f6ae06955fae227d\n",
            "  Stored in directory: /root/.cache/pip/wheels/07/cc/8e/2f95f14d9c19410733709350972e7e8dc4db6b13ba29c976ad\n",
            "  Building wheel for pfmisc (setup.py) ... \u001b[?25l\u001b[?25hdone\n",
            "  Created wheel for pfmisc: filename=pfmisc-2.2.14-py3-none-any.whl size=45415 sha256=e88eea1adc899a77937096545aa648ffc3e29f2d7fc078b60edb3444ca949f0b\n",
            "  Stored in directory: /root/.cache/pip/wheels/a0/cd/d2/c5e04a569bcac3d6c06de6aa5aeb2ef7f09a9d917aa7cb1350\n",
            "  Building wheel for pudb (pyproject.toml) ... \u001b[?25l\u001b[?25hdone\n",
            "  Created wheel for pudb: filename=pudb-2024.1-py3-none-any.whl size=86977 sha256=2e12ab81dbe5967cabed2de2f962e79bfdc7b6b19a623adee41ac2e815f24dad\n",
            "  Stored in directory: /root/.cache/pip/wheels/85/b0/e1/c80361fa965f04b6da48bfb9721e6cd8c0310288e85cebc76a\n",
            "  Building wheel for urwid-readline (pyproject.toml) ... \u001b[?25l\u001b[?25hdone\n",
            "  Created wheel for urwid-readline: filename=urwid_readline-0.13-py3-none-any.whl size=7544 sha256=9dc136d9b20ec28675fee709686ae9a49223c68183e3da27e15e5c0c145c96af\n",
            "  Stored in directory: /root/.cache/pip/wheels/58/1d/d8/20c6d76afd5bd205f5f95f19640df9a4e88fc6f1a4c25bb693\n",
            "Successfully built med2image pfmisc pudb urwid-readline\n",
            "Installing collected packages: urwid, pydicom, jedi, urwid-readline, pudb, pfmisc, med2image\n",
            "Successfully installed jedi-0.19.1 med2image-2.6.6 pfmisc-2.2.14 pudb-2024.1 pydicom-2.4.4 urwid-2.6.4 urwid-readline-0.13\n"
          ]
        }
      ],
      "source": [
        "!pip3 install med2image"
      ]
    },
    {
      "cell_type": "markdown",
      "source": [
        "# **PRETVORBA IZ .NII.GZ U .JPG**"
      ],
      "metadata": {
        "id": "4OxY4ji-ImZR"
      }
    },
    {
      "cell_type": "markdown",
      "source": [
        "# *Svaki .nii.gz slice u 154 slike*"
      ],
      "metadata": {
        "id": "0kgtF5K7Isfm"
      }
    },
    {
      "cell_type": "code",
      "source": [
        "import os\n",
        "\n",
        "# Path to the main directory\n",
        "main_directory = '/content/drive/MyDrive/MICCAI_BraTS2020_TrainingData'\n",
        "\n",
        "# Create the output directory for converted images\n",
        "output_directory = '/content/drive/MyDrive/output_images'\n",
        "\n",
        "# Create the main output directory if it doesn't exist\n",
        "os.makedirs(output_directory, exist_ok=True)\n",
        "\n",
        "# List all subdirectories in the main directory\n",
        "subdirectories = [d for d in os.listdir(main_directory) if os.path.isdir(os.path.join(main_directory, d))]\n",
        "\n",
        "# Loop through each subdirectory and convert files\n",
        "for subdirectory in subdirectories:\n",
        "    input_directory = os.path.join(main_directory, subdirectory)\n",
        "\n",
        "    # Create the output directory within output_images\n",
        "    output_case_directory = os.path.join(output_directory, subdirectory)\n",
        "    os.makedirs(output_case_directory, exist_ok=True)\n",
        "\n",
        "    # List all files in the subdirectory\n",
        "    files = [f for f in os.listdir(input_directory) if f.endswith('.nii.gz')]\n",
        "\n",
        "    # Loop through each file and convert\n",
        "    for file in files:\n",
        "        input_file = os.path.join(input_directory, file)\n",
        "        output_file_stem = f\"{subdirectory}_{os.path.splitext(file)[0]}\"\n",
        "\n",
        "        # Modify other parameters as needed\n",
        "        command = f\"med2image -i '{input_file}' -d '{output_case_directory}' -o '{output_file_stem}' --outputFileType jpg\"\n",
        "\n",
        "        try:\n",
        "            # Execute the command\n",
        "            os.system(command)\n",
        "            print(f\"Conversion successful for {input_file}\")\n",
        "        except Exception as e:\n",
        "            print(f\"Error converting {input_file}: {e}\")\n",
        "\n",
        "print(\"Conversion completed for all directories.\")"
      ],
      "metadata": {
        "id": "qM5kjpvygi3g"
      },
      "execution_count": null,
      "outputs": []
    },
    {
      "cell_type": "markdown",
      "source": [
        "# *Spajanje 154 slice-a za svaki presjek u 1 slice*"
      ],
      "metadata": {
        "id": "qqMiUQybzrm6"
      }
    },
    {
      "cell_type": "code",
      "source": [
        "import os\n",
        "import nibabel as nib\n",
        "import numpy as np\n",
        "from PIL import Image\n",
        "\n",
        "# Path to the main directory\n",
        "main_directory = '/content/drive/MyDrive/output_images'\n",
        "\n",
        "# Output directory for combined images\n",
        "combined_output_directory = '/content/drive/MyDrive/MICCAI_BraTS2020_TrainingData_comb'\n",
        "\n",
        "# Create the main combined output directory if it doesn't exist\n",
        "os.makedirs(combined_output_directory, exist_ok=True)\n",
        "\n",
        "# List all subdirectories in the main directory\n",
        "subdirectories = [d for d in os.listdir(main_directory) if os.path.isdir(os.path.join(main_directory, d))]\n",
        "\n",
        "# Loop through each subdirectory and combine files\n",
        "for subdirectory in subdirectories:\n",
        "    input_directory = os.path.join(main_directory, subdirectory)\n",
        "\n",
        "    # Create the output directory within combined_output_directory\n",
        "    combined_case_directory = os.path.join(combined_output_directory, subdirectory)\n",
        "    os.makedirs(combined_case_directory, exist_ok=True)\n",
        "\n",
        "    # Initialize empty arrays for each image type\n",
        "    t1_array = []\n",
        "    t2_array = []\n",
        "    flair_array = []\n",
        "    seg_array = []\n",
        "    t1ce_array = []\n",
        "\n",
        "    # List all files in the subdirectory\n",
        "    files = [f for f in os.listdir(input_directory) if f.endswith('.jpg')]\n",
        "\n",
        "    for file in files:\n",
        "      input_file = os.path.join(input_directory, file)\n",
        "      #print(f\"Processing file: {file}\")\n",
        "\n",
        "      # Load the image using an image processing library (e.g., PIL, OpenCV)\n",
        "      img = Image.open(input_file)\n",
        "      img_array = np.array(img)\n",
        "\n",
        "      # Assuming that each image corresponds to a different slice, you can concatenate them along the appropriate axis\n",
        "      if 't1' in file.lower():\n",
        "          t1_array.append(img_array)\n",
        "      elif 't2' in file.lower():\n",
        "          t2_array.append(img_array)\n",
        "      elif 'flair' in file.lower():\n",
        "          flair_array.append(img_array)\n",
        "      elif 'seg' in file.lower():\n",
        "          seg_array.append(img_array)\n",
        "      if 't1ce' in file.lower():\n",
        "          t1ce_array.append(img_array)\n",
        "\n",
        "    # Stack images along a new axis (axis=3) to create a 4D volume\n",
        "    if t1_array:\n",
        "        t1_combined = np.stack(t1_array, axis=3)\n",
        "        Image.fromarray(np.uint8(np.mean(t1_combined, axis=3))).save(os.path.join(combined_case_directory, f'{subdirectory}_T1_combined.jpg'))\n",
        "        print(f\"Combined T1 images for {subdirectory}\")\n",
        "    if t2_array:\n",
        "        t2_combined = np.stack(t2_array, axis=3)\n",
        "        Image.fromarray(np.uint8(np.mean(t2_combined, axis=3))).save(os.path.join(combined_case_directory, f'{subdirectory}_T2_combined.jpg'))\n",
        "        print(f\"Combined T2 images for {subdirectory}\")\n",
        "    if flair_array:\n",
        "        flair_combined = np.stack(flair_array, axis=3)\n",
        "        Image.fromarray(np.uint8(np.mean(flair_combined, axis=3))).save(os.path.join(combined_case_directory, f'{subdirectory}_FLAIR_combined.jpg'))\n",
        "        print(f\"Combined FLAIR images for {subdirectory}\")\n",
        "    if seg_array:\n",
        "        seg_combined = np.stack(seg_array, axis=3)\n",
        "        Image.fromarray(np.uint8(np.mean(seg_combined, axis=3))).save(os.path.join(combined_case_directory, f'{subdirectory}_SEG_combined.jpg'))\n",
        "        print(f\"Combined SEG images for {subdirectory}\")\n",
        "    if t1ce_array:\n",
        "        t1ce_combined = np.stack(t1ce_array, axis=3)\n",
        "        Image.fromarray(np.uint8(np.mean(t1ce_combined, axis=3))).save(os.path.join(combined_case_directory, f'{subdirectory}_T1CE_combined.jpg'))\n",
        "        print(f\"Combined T1CE images for {subdirectory}\")\n",
        "\n",
        "\n",
        "print(\"Combination completed for all directories.\")"
      ],
      "metadata": {
        "id": "kem1WAojh0aJ"
      },
      "execution_count": null,
      "outputs": []
    },
    {
      "cell_type": "markdown",
      "source": [
        "# *Po jedna slika za svaki slice*"
      ],
      "metadata": {
        "id": "h6dTVkMrIy6s"
      }
    },
    {
      "cell_type": "code",
      "source": [
        "import os\n",
        "\n",
        "# Path to the main directory\n",
        "main_directory = '/content/drive/MyDrive/MICCAI_BraTS2020_TrainingData'\n",
        "\n",
        "# Create the output directory for converted images\n",
        "output_directory = '/content/drive/MyDrive/MICCAI_BraTS2020_TrainingData_jpg'\n",
        "\n",
        "# Create the main output directory if it doesn't exist\n",
        "os.makedirs(output_directory, exist_ok=True)\n",
        "\n",
        "# List all subdirectories in the main directory\n",
        "subdirectories = [d for d in os.listdir(main_directory) if os.path.isdir(os.path.join(main_directory, d))]\n",
        "\n",
        "# Loop through each subdirectory and convert files\n",
        "for subdirectory in subdirectories:\n",
        "    input_directory = os.path.join(main_directory, subdirectory)\n",
        "\n",
        "    # Create the output directory within output_images\n",
        "    output_case_directory = os.path.join(output_directory, subdirectory)\n",
        "    os.makedirs(output_case_directory, exist_ok=True)\n",
        "\n",
        "    # List all files in the subdirectory\n",
        "    files = [f for f in os.listdir(input_directory) if f.endswith('.nii.gz')]\n",
        "\n",
        "    # Loop through each file and convert\n",
        "    for file in files:\n",
        "        input_file = os.path.join(input_directory, file)\n",
        "        # Extract file name without extension\n",
        "        file_name_without_extension = os.path.splitext(file)[0]\n",
        "\n",
        "        # Remove the redundant part from the file name\n",
        "        if file_name_without_extension.startswith(subdirectory):\n",
        "            file_name_without_extension = file_name_without_extension[len(subdirectory) + 1:]\n",
        "\n",
        "        # Combine subdirectory name and modified file name without extension\n",
        "        output_file_stem = f\"{subdirectory}_{file_name_without_extension}\"\n",
        "\n",
        "        # Modify other parameters as needed, adding --sliceToConvert\n",
        "        command = f\"med2image -i '{input_file}' -d '{output_case_directory}' -o '{output_file_stem}' --outputFileType jpg --sliceToConvert m\"\n",
        "\n",
        "        try:\n",
        "            # Execute the command\n",
        "            os.system(command)\n",
        "            print(f\"Conversion successful for {input_file}\")\n",
        "        except Exception as e:\n",
        "            print(f\"Error converting {input_file}: {e}\")\n",
        "\n",
        "\n",
        "print(\"Conversion completed for all directories.\")"
      ],
      "metadata": {
        "id": "HhOCIaPlidDe"
      },
      "execution_count": null,
      "outputs": []
    },
    {
      "cell_type": "markdown",
      "source": [
        "# **SORTIRANJE PO PRESJECIMA**"
      ],
      "metadata": {
        "id": "bPH9A-FSIdwH"
      }
    },
    {
      "cell_type": "code",
      "source": [
        "import shutil\n",
        "\n",
        "# Path to the main directory\n",
        "main_directory = '/content/drive/MyDrive/MICCAI_BraTS2020_TrainingData_jpg'\n",
        "\n",
        "# Create the output directory for images\n",
        "output_directory = '/content/drive/MyDrive/MICCAI_BraTS2020_TrainingData_sorted'\n",
        "os.makedirs(output_directory, exist_ok=True)\n",
        "\n",
        "# List all subdirectories in the main directory\n",
        "subdirectories = [d for d in os.listdir(main_directory) if os.path.isdir(os.path.join(main_directory, d))]\n",
        "\n",
        "# Loop through each subdirectory\n",
        "for subdirectory in subdirectories:\n",
        "    input_subdirectory = os.path.join(main_directory, subdirectory)\n",
        "\n",
        "    # Create subdirectories 't1', 't2', 't1ce', 'flair', 'seg' within output2 for each subdirectory\n",
        "    for image_type in ['t1', 't2', 't1ce', 'flair', 'seg']:\n",
        "        type_directory = os.path.join(output_directory, image_type)\n",
        "        os.makedirs(type_directory, exist_ok=True)\n",
        "\n",
        "    # List all files in the subdirectory\n",
        "    files = [f for f in os.listdir(input_subdirectory) if f.endswith('.jpg')]\n",
        "\n",
        "    # Loop through each file and copy to the corresponding type directory\n",
        "    for file in files:\n",
        "        input_file = os.path.join(input_subdirectory, file)\n",
        "\n",
        "        # Extract type from the file name\n",
        "        image_type = file.split('_')[-1].split('-')[0]\n",
        "\n",
        "        # Destination directory\n",
        "        output_type_directory = os.path.join(output_directory, image_type)\n",
        "        output_file = os.path.join(output_type_directory, file)\n",
        "        shutil.copy(input_file, output_file)\n",
        "        print(f\"Copying {file} to {output_type_directory}\")\n",
        "\n",
        "print(\"Copying completed for all JPG images.\")"
      ],
      "metadata": {
        "id": "yExs9RMMHoHw"
      },
      "execution_count": null,
      "outputs": []
    }
  ],
  "metadata": {
    "colab": {
      "gpuType": "T4",
      "provenance": [],
      "authorship_tag": "ABX9TyObWcty+lwPG9PTRZ5YF3Cj",
      "include_colab_link": true
    },
    "kernelspec": {
      "display_name": "Python 3",
      "name": "python3"
    },
    "language_info": {
      "name": "python"
    }
  },
  "nbformat": 4,
  "nbformat_minor": 0
}